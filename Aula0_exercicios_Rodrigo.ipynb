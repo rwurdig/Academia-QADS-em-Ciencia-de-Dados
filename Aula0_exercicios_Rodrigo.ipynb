{
  "nbformat": 4,
  "nbformat_minor": 5,
  "metadata": {
    "kernelspec": {
      "display_name": "Python 3",
      "language": "python",
      "name": "python3"
    },
    "language_info": {
      "codemirror_mode": {
        "name": "ipython",
        "version": 3
      },
      "file_extension": ".py",
      "mimetype": "text/x-python",
      "name": "python",
      "nbconvert_exporter": "python",
      "pygments_lexer": "ipython3",
      "version": "3.8.5"
    },
    "colab": {
      "name": "Aula0_exercicios_Rodrigo.ipynb",
      "provenance": [],
      "collapsed_sections": [],
      "include_colab_link": true
    }
  },
  "cells": [
    {
      "cell_type": "markdown",
      "metadata": {
        "id": "view-in-github",
        "colab_type": "text"
      },
      "source": [
        "<a href=\"https://colab.research.google.com/github/rwurdig/Academia-QADS---Ci-ncia-de-Dados/blob/main/Aula0_exercicios_Rodrigo.ipynb\" target=\"_parent\"><img src=\"https://colab.research.google.com/assets/colab-badge.svg\" alt=\"Open In Colab\"/></a>"
      ]
    },
    {
      "cell_type": "markdown",
      "metadata": {
        "id": "38e88a1b"
      },
      "source": [
        "## Exercícios - Aula 0\n",
        "___"
      ],
      "id": "38e88a1b"
    },
    {
      "cell_type": "markdown",
      "metadata": {
        "id": "w3FLCdl6nMPo"
      },
      "source": [
        "# Exercício 1\n",
        "1. Crie um algoritmo que pergunte a idade do usuário, transforme a idade enviada para ```float```, calcule a idade em meses, calcule a idade em dias e mostre o resultado de cada operação. Considere que todos os anos possuem exatamente 365 dias."
      ],
      "id": "w3FLCdl6nMPo"
    },
    {
      "cell_type": "code",
      "metadata": {
        "colab": {
          "base_uri": "https://localhost:8080/"
        },
        "id": "vo5wS3lYnQPO",
        "outputId": "691e37c6-24c2-43a5-a682-e54ac78656cd"
      },
      "source": [
        "idade_do_usuario = float(input(\"Qual a sua idade? \"))\n",
        "\n",
        "idade_meses = idade_do_usuario * 12\n",
        "idade_dias = idade_do_usuario * 365\n",
        "\n",
        "print(f\"Voce tem {idade_do_usuario} anos\\n{idade_meses} meses\\n{idade_dias} dias\")"
      ],
      "id": "vo5wS3lYnQPO",
      "execution_count": null,
      "outputs": [
        {
          "output_type": "stream",
          "text": [
            "Qual a sua idade? 42\n",
            "Voce tem 42.0 anos\n",
            "504.0 meses\n",
            "15330.0 dias\n"
          ],
          "name": "stdout"
        }
      ]
    },
    {
      "cell_type": "markdown",
      "metadata": {
        "id": "nFbaAm-InGmm"
      },
      "source": [
        "# Exercício 2\n",
        "2. Crie um algoritmo que pergunte o primeiro nome, guarde na variável ```primeiro_nome```, pergunte o sobrenome , guarda na variável ```sobrenome```. Por fim o algoritmo deve printar a soma das duas variáveis com uma saudação (de sua escolha) ao usuário."
      ],
      "id": "nFbaAm-InGmm"
    },
    {
      "cell_type": "code",
      "metadata": {
        "colab": {
          "base_uri": "https://localhost:8080/"
        },
        "id": "zIQFEKyKoi9v",
        "outputId": "19dfa73f-b535-48a1-f447-e05d8439cc83"
      },
      "source": [
        "primeiro_nome = input(\"Qual o seu nome: \")\n",
        "sobrenome = input(\"Qual o seu sobrenome: \")\n",
        "print(f'Bem vindo {primeiro_nome} {sobrenome}')\n"
      ],
      "id": "zIQFEKyKoi9v",
      "execution_count": null,
      "outputs": [
        {
          "output_type": "stream",
          "text": [
            "Qual o seu nome: Rodrigo\n",
            "Qual o seu sobrenome: Wurdig\n",
            "Bem vindo Rodrigo Wurdig\n"
          ],
          "name": "stdout"
        }
      ]
    },
    {
      "cell_type": "markdown",
      "metadata": {
        "id": "2t97zHV3kZNw"
      },
      "source": [
        "# Exercício 3\n",
        "3. No açougue do Seu Joaquim o contra-filé é R\\$39.99 o kilo. Monte um algoritmo para calcular o valor pago caso você compre 5, 10, 15, 2.5 e 5.75 kilos.\n"
      ],
      "id": "2t97zHV3kZNw"
    },
    {
      "cell_type": "code",
      "metadata": {
        "colab": {
          "base_uri": "https://localhost:8080/"
        },
        "id": "gQJSykzvpCUO",
        "outputId": "2ab6fe50-6a92-4770-e209-8c3daff8dcd2"
      },
      "source": [
        "contra_file = float(39.99)\n",
        "preco = float(input('Preço do contra-filé é R$39.99 o kilo, qual a quantidade que deseja: '))\n",
        "preco_final = round(float(preco * 39.99))\n",
        "print(f'O valor final é: R$ {preco_final}')"
      ],
      "id": "gQJSykzvpCUO",
      "execution_count": null,
      "outputs": [
        {
          "output_type": "stream",
          "text": [
            "Preço do contra-filé é R$39.99 o kilo, qual a quantidade que deseja: 5\n",
            "O valor final é: R$ 200\n"
          ],
          "name": "stdout"
        }
      ]
    },
    {
      "cell_type": "markdown",
      "metadata": {
        "id": "dHEwUqAIrUxq"
      },
      "source": [
        "# Exercício 4\n",
        "4. Execute todas as operações aritiméticas básicas (adição, subtração, divisão e multiplicação) com as variáveis 'a' e 'b' abaixo.\n",
        "\n",
        "> a = 15<br>\n",
        "b = 12"
      ],
      "id": "dHEwUqAIrUxq"
    },
    {
      "cell_type": "code",
      "metadata": {
        "colab": {
          "base_uri": "https://localhost:8080/"
        },
        "id": "WGy3WiAorn3C",
        "outputId": "c265209c-b367-4383-bd0c-d48689199480"
      },
      "source": [
        "a = 15\n",
        "b = 12\n",
        "soma = (a + b) \n",
        "multi = (a * b)\n",
        "divisao = (a / b) \n",
        "sub = (a - b)\n",
        "print(f'A soma é: {soma}, a subtração é: {sub}, a divisão é: {divisao} e a multiplicação é: {multi}')"
      ],
      "id": "WGy3WiAorn3C",
      "execution_count": null,
      "outputs": [
        {
          "output_type": "stream",
          "text": [
            "A soma é: 27, a subtração é: 3, a divisão é: 1.25 e a multiplicação é: 180\n"
          ],
          "name": "stdout"
        }
      ]
    },
    {
      "cell_type": "markdown",
      "metadata": {
        "id": "qsTN8bazt0uv"
      },
      "source": [
        "#Exercício 5\n",
        "5. Tente calcular o seu IMC utilizando somente operações matemáticas. Dica: o IMC é calculado da seguinte forma: IMC = peso / (altura em metros * altura em metros)"
      ],
      "id": "qsTN8bazt0uv"
    },
    {
      "cell_type": "code",
      "metadata": {
        "colab": {
          "base_uri": "https://localhost:8080/"
        },
        "id": "diwMw7q8t_v-",
        "outputId": "0f318499-4a91-4578-8564-256fb39c57b2"
      },
      "source": [
        "peso = float(input('Qual o seu peso: '))\n",
        "altura = float(input('E qual a sua altura: '))\n",
        "imc = (peso / (altura*altura))\n",
        "print(f'O seu IMC é: {round(imc,2)}')"
      ],
      "id": "diwMw7q8t_v-",
      "execution_count": null,
      "outputs": [
        {
          "output_type": "stream",
          "text": [
            "Qual o seu peso: 50\n",
            "E qual a sua altura: 1.70\n",
            "O seu IMC é: 17.3\n"
          ],
          "name": "stdout"
        }
      ]
    },
    {
      "cell_type": "markdown",
      "metadata": {
        "id": "OW3FKmw0s9sB"
      },
      "source": [
        "5.1. Tente calcular o seu IMC utilizando elif e round."
      ],
      "id": "OW3FKmw0s9sB"
    },
    {
      "cell_type": "code",
      "metadata": {
        "colab": {
          "base_uri": "https://localhost:8080/"
        },
        "id": "dTjNIYeAtLtO",
        "outputId": "3b29a22a-4bc9-48cb-a549-fe1c8b8c4416"
      },
      "source": [
        "# Cálculo do IMC\n",
        "peso = float(input(\"Digite o seu peso em Kg: \"))\n",
        "altura = float(input(\"Digite a sua altura em metros: \"))\n",
        "imc = peso/altura**2 \n",
        "\n",
        "if imc < 16:\n",
        "    print(f'O seu IMC é: {round(imc,2)} e você está no nível de Magreza')\n",
        "\n",
        "elif imc >= 16 and imc <= 24.9:\n",
        "    print(f'O seu IMC é: {round(imc,2)} e você está saudável')\n",
        "\n",
        "elif imc > 24.9 and imc <= 30:\n",
        "    print(f'O seu IMC é: {round(imc,2)} e você está com sobrepeso')\n",
        "\n",
        "elif imc > 30:\n",
        "\tprint(f'O seu IMC é: {round(imc,2)} e você está Obeso')\n"
      ],
      "id": "dTjNIYeAtLtO",
      "execution_count": 2,
      "outputs": [
        {
          "output_type": "stream",
          "text": [
            "Digite o seu peso em Kg: 50\n",
            "Digite a sua altura em metros: 1.60\n",
            "O seu IMC é: 19.53 e você está saudável\n"
          ],
          "name": "stdout"
        }
      ]
    },
    {
      "cell_type": "markdown",
      "metadata": {
        "id": "iSZJbBEstnYl"
      },
      "source": [
        "5.2. Tente calcular o seu IMC utilizando elif e format."
      ],
      "id": "iSZJbBEstnYl"
    },
    {
      "cell_type": "code",
      "metadata": {
        "id": "6OOjILg3s74M"
      },
      "source": [
        "# Cálculo do IMC\n",
        "peso = float(input(\"Digite o seu peso em Kg: \"))\n",
        "altura = float(input(\"Digite a sua altura em metros: \"))\n",
        "imc = peso/altura**2 \n",
        "\n",
        "if imc < 16:\n",
        "    print('O seu IMC é: {:.2f} e você está no nível de Magreza'.format(imc))\n",
        "\n",
        "elif imc >= 16 and imc <= 24.9:\n",
        "    print('O seu IMC é: {:.2f} e você está saudável'.format(imc))\n",
        "\n",
        "elif imc > 24.9 and imc <= 30:\n",
        "    print('O seu IMC é: {:.2f} e você está com sobrepeso'.format(imc))\n",
        "\n",
        "elif imc > 30:\n",
        "\tprint('O seu IMC é: {:.2f} e você está Obeso'.format(imc))\n"
      ],
      "id": "6OOjILg3s74M",
      "execution_count": null,
      "outputs": []
    },
    {
      "cell_type": "markdown",
      "metadata": {
        "id": "Q9wTQLx-s7ay"
      },
      "source": [
        ""
      ],
      "id": "Q9wTQLx-s7ay"
    },
    {
      "cell_type": "markdown",
      "metadata": {
        "id": "Ywr7q2obzI__"
      },
      "source": [
        "#Exercício 6\n",
        "6. Sua professora de português pediu para você escrever a frase 'português é maravilhoso' 50 vezes. Como resolver esse problema com python? Demonstre sua solução."
      ],
      "id": "Ywr7q2obzI__"
    },
    {
      "cell_type": "code",
      "metadata": {
        "colab": {
          "base_uri": "https://localhost:8080/"
        },
        "id": "ee2ZflDGzR9_",
        "outputId": "9a482dae-129c-4873-c62a-f1dcf2a8939f"
      },
      "source": [
        "x = ('Português é maravilhoso.  ')\n",
        "y = (x*50)\n",
        "print(y)"
      ],
      "id": "ee2ZflDGzR9_",
      "execution_count": null,
      "outputs": [
        {
          "output_type": "stream",
          "text": [
            "Português é maravilhoso.  Português é maravilhoso.  Português é maravilhoso.  Português é maravilhoso.  Português é maravilhoso.  Português é maravilhoso.  Português é maravilhoso.  Português é maravilhoso.  Português é maravilhoso.  Português é maravilhoso.  Português é maravilhoso.  Português é maravilhoso.  Português é maravilhoso.  Português é maravilhoso.  Português é maravilhoso.  Português é maravilhoso.  Português é maravilhoso.  Português é maravilhoso.  Português é maravilhoso.  Português é maravilhoso.  Português é maravilhoso.  Português é maravilhoso.  Português é maravilhoso.  Português é maravilhoso.  Português é maravilhoso.  Português é maravilhoso.  Português é maravilhoso.  Português é maravilhoso.  Português é maravilhoso.  Português é maravilhoso.  Português é maravilhoso.  Português é maravilhoso.  Português é maravilhoso.  Português é maravilhoso.  Português é maravilhoso.  Português é maravilhoso.  Português é maravilhoso.  Português é maravilhoso.  Português é maravilhoso.  Português é maravilhoso.  Português é maravilhoso.  Português é maravilhoso.  Português é maravilhoso.  Português é maravilhoso.  Português é maravilhoso.  Português é maravilhoso.  Português é maravilhoso.  Português é maravilhoso.  Português é maravilhoso.  Português é maravilhoso.  \n"
          ],
          "name": "stdout"
        }
      ]
    },
    {
      "cell_type": "markdown",
      "metadata": {
        "id": "ccGa2wPSz7hp"
      },
      "source": [
        "#Exercício 7\n",
        "7. Um modelo de regressão linear possui a seguinte fórmula: y=0.253*x + 125. Qual será o valor de Y quando X for 125?\n"
      ],
      "id": "ccGa2wPSz7hp"
    },
    {
      "cell_type": "code",
      "metadata": {
        "colab": {
          "base_uri": "https://localhost:8080/"
        },
        "id": "VyWeaL-rz_cK",
        "outputId": "36df6d48-4138-4dcc-9c05-853bb260914b"
      },
      "source": [
        "x = 125\n",
        "y = (0.253*x) + 125\n",
        "print(f'O valor de y é: {y}')"
      ],
      "id": "VyWeaL-rz_cK",
      "execution_count": 8,
      "outputs": [
        {
          "output_type": "stream",
          "text": [
            "O valor de y é: 156.625\n"
          ],
          "name": "stdout"
        }
      ]
    },
    {
      "cell_type": "markdown",
      "metadata": {
        "id": "6McemdnP3TLQ"
      },
      "source": [
        "#Exercício 8\n",
        "8. Cria uma variável chamada a, atribua o valor 15 para ela. Na linha abaixo escreva a = b = 15. Qual será o valor de a?"
      ],
      "id": "6McemdnP3TLQ"
    },
    {
      "cell_type": "code",
      "metadata": {
        "colab": {
          "base_uri": "https://localhost:8080/"
        },
        "id": "sp9IQ6GF3nyZ",
        "outputId": "7549504d-f0a4-4e3c-9cb9-73ba44153d7e"
      },
      "source": [
        "a = 15\n",
        "a = b = 15\n",
        "print(a)"
      ],
      "id": "sp9IQ6GF3nyZ",
      "execution_count": null,
      "outputs": [
        {
          "output_type": "stream",
          "text": [
            "15\n"
          ],
          "name": "stdout"
        }
      ]
    },
    {
      "cell_type": "markdown",
      "metadata": {
        "id": "ZvAm3Pko3xuN"
      },
      "source": [
        "#Exercício 9\n",
        "9. É possível criar uma variável chamada 1_2_3_variavel? Se não, qual o motivo? Não, pois em python as variáveis não podem começar com números."
      ],
      "id": "ZvAm3Pko3xuN"
    },
    {
      "cell_type": "markdown",
      "metadata": {
        "id": "wfG-VlVQ4Dx7"
      },
      "source": [
        "Resposta: Não, pois não é possível iniciar variáveis com números, letras maiúsculas e nomes de funções pré-definidas (return, por exemplo) no python."
      ],
      "id": "wfG-VlVQ4Dx7"
    },
    {
      "cell_type": "markdown",
      "metadata": {
        "id": "QHUlB-i439h9"
      },
      "source": [
        "#Exercício 10\n",
        "10. Crie uma variável chamada temp_em_graus e atribua a temperatura de hoje a ela. Crie uma segunda temp_em_f e guarde a transformação do valor da primeira variável de graus para Fahrenheit"
      ],
      "id": "QHUlB-i439h9"
    },
    {
      "cell_type": "code",
      "metadata": {
        "colab": {
          "base_uri": "https://localhost:8080/"
        },
        "id": "zLlYIuI64CVS",
        "outputId": "ba627a8e-d287-475c-a242-0b883cb64090"
      },
      "source": [
        "temp_em_graus = 16\n",
        "temp_em_f = (temp_em_graus * 1.8 + 32)\n",
        "\n",
        "print(f'O valor da temperatura em Fahrenheint é: {temp_em_f}')"
      ],
      "id": "zLlYIuI64CVS",
      "execution_count": 11,
      "outputs": [
        {
          "output_type": "stream",
          "text": [
            "O valor da temperatura em Fahrenheint é: 60.8\n"
          ],
          "name": "stdout"
        }
      ]
    }
  ]
}